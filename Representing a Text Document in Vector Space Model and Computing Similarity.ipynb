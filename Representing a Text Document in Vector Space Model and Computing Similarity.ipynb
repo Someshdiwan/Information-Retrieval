{
 "cells": [
  {
   "cell_type": "code",
   "execution_count": 2,
   "id": "dcfa1a6a-93d3-445c-b4f2-b764e6b44614",
   "metadata": {},
   "outputs": [
    {
     "name": "stdout",
     "output_type": "stream",
     "text": [
      "Vector Space Representation:\n",
      "+--------+-----------------+--------------+--------------+--------------+\n",
      "|        | Word/Document   | Document 1   | Document 2   | Document 3   |\n",
      "+========+=================+==============+==============+==============+\n",
      "| behind | cat             | dog          | rat          | runs         |\n",
      "+--------+-----------------+--------------+--------------+--------------+\n",
      "| 1      | 1               | 0            | 1            | 1            |\n",
      "+--------+-----------------+--------------+--------------+--------------+\n",
      "| 1      | 1               | 1            | 0            | 1            |\n",
      "+--------+-----------------+--------------+--------------+--------------+\n",
      "| 0      | 1               | 0            | 0            | 1            |\n",
      "+--------+-----------------+--------------+--------------+--------------+\n",
      "\n",
      "Similarity Matrix:\n",
      "+----------+----------+----------+\n",
      "|     Doc1 |     Doc2 |    Query |\n",
      "+==========+==========+==========+\n",
      "| 1        | 0.75     | 0.707107 |\n",
      "+----------+----------+----------+\n",
      "| 0.75     | 1        | 0.707107 |\n",
      "+----------+----------+----------+\n",
      "| 0.707107 | 0.707107 | 1        |\n",
      "+----------+----------+----------+\n"
     ]
    }
   ],
   "source": [
    "from sklearn.feature_extraction.text import CountVectorizer\n",
    "from sklearn.metrics.pairwise import cosine_similarity\n",
    "from tabulate import tabulate\n",
    "\n",
    "# Documents\n",
    "doc1 = \"Cat runs behind rat\"\n",
    "doc2 = \"Dog runs behind cat\"\n",
    "query = \"Cat runs\"\n",
    "\n",
    "# Represent documents in vector space\n",
    "vectorizer = CountVectorizer()\n",
    "corpus = [doc1, doc2, query]\n",
    "X = vectorizer.fit_transform(corpus)\n",
    "\n",
    "# Display feature names (terms)\n",
    "features = vectorizer.get_feature_names_out()\n",
    "\n",
    "# Convert sparse matrix to dense for better visualization\n",
    "dense_matrix = X.toarray()\n",
    "\n",
    "# Assign headers and data for tabulation\n",
    "headers = [\"Word/Document\"] + [f\"Document {i+1}\" for i in range(len(corpus))]\n",
    "table_data = [features] + [dense_matrix[i].tolist() for i in range(len(dense_matrix))]\n",
    "\n",
    "# Display table\n",
    "print(\"Vector Space Representation:\")\n",
    "print(tabulate(table_data, headers=headers, tablefmt=\"grid\"))\n",
    "\n",
    "# Compute similarity between documents\n",
    "similarity = cosine_similarity(X)\n",
    "\n",
    "# Display similarity matrix\n",
    "print(\"\\nSimilarity Matrix:\")\n",
    "print(tabulate(similarity, headers=[\"Doc1\", \"Doc2\", \"Query\"], tablefmt=\"grid\"))"
   ]
  },
  {
   "cell_type": "code",
   "execution_count": null,
   "id": "53c3cec4-f36d-49ba-b3d8-f9ddfbe3d4fa",
   "metadata": {},
   "outputs": [],
   "source": [
    "Python implementation using the tabulate library to display data in table format. \n",
    "a basic example for document representation in vector space and the computation of similarity using cosine similarity.\n",
    "\n",
    "Key Points\n",
    "\n",
    "Vector Space Representation:\n",
    "\n",
    "Count Vectorizer is used to convert text into a bag-of-words model.\n",
    "\n",
    "Each term in the corpus becomes a feature, and documents are represented as vectors based on term frequency.\n",
    "\n",
    "Similarity Computation:\n",
    "\n",
    "Cosine similarity measures the cosine of the angle between two vectors in a multi-dimensional space, useful for comparing text documents.\n",
    "\n",
    "Output Example\n",
    "\n",
    "The script will output the following:\n",
    "\n",
    "Vector space representation, showing term frequencies for each document and query.\n",
    "Similarity matrix, indicating pairwise similarities between the documents and query."
   ]
  },
  {
   "cell_type": "code",
   "execution_count": 4,
   "id": "9b924fb9-5e46-4206-ae0b-70812eb547dc",
   "metadata": {},
   "outputs": [
    {
     "name": "stdout",
     "output_type": "stream",
     "text": [
      "Cosine Similarity Matrix:\n",
      "[[1.         0.75       0.70710678]\n",
      " [0.75       1.         0.70710678]\n",
      " [0.70710678 0.70710678 1.        ]]\n"
     ]
    }
   ],
   "source": [
    "from sklearn.feature_extraction.text import CountVectorizer\n",
    "from sklearn.metrics.pairwise import cosine_similarity\n",
    "\n",
    "# Example documents\n",
    "doc1 = \"Cat runs behind rat\"\n",
    "doc2 = \"Dog runs behind cat\"\n",
    "query = \"Cat runs\"\n",
    "\n",
    "# Vectorizing the documents\n",
    "vectorizer = CountVectorizer()\n",
    "corpus = [doc1, doc2, query]\n",
    "X = vectorizer.fit_transform(corpus)\n",
    "\n",
    "# Compute cosine similarity\n",
    "similarity_matrix = cosine_similarity(X)\n",
    "\n",
    "# Display similarity matrix\n",
    "print(\"Cosine Similarity Matrix:\")\n",
    "print(similarity_matrix)\n"
   ]
  },
  {
   "cell_type": "code",
   "execution_count": null,
   "id": "fd3cc46d-6e47-416b-bcf1-0814fcce8b79",
   "metadata": {},
   "outputs": [],
   "source": [
    "What is Cosine Similarity?\n",
    "\n",
    "Cosine Similarity is a metric used to measure the similarity between two non-zero vectors in a multi-dimensional space. It calculates the cosine of the angle between the vectors, where:\n",
    "\n",
    "- A cosine value of 1 means the vectors are identical (completely similar).\n",
    "- A cosine value of 0 means the vectors are orthogonal (no similarity).\n",
    "- A cosine value between 0 and 1 represents partial similarity.\n",
    "\n",
    "In the context of text documents, the vectors represent term frequencies or other numerical encodings of the documents, making cosine similarity a popular metric for text similarity.\n",
    "\n",
    "Formula\n",
    "The formula for cosine similarity is:\n",
    "\n",
    "Cosine Similarity = vec A * vec B / vec A | vec B\n",
    "\n",
    "Display similarity Matrix Interpretation\n",
    "- Each row and column represent a document or query.\n",
    "- Diagonal values are always `1`, as each document is identical to itself.\n",
    "- Off-diagonal values represent the cosine similarity between two different documents.\n",
    "\n",
    "Applications of Cosine Similarity\n",
    "1. Information Retrieval: Measure the relevance of documents to a query.\n",
    "2. Text Mining: Compare the similarity between articles, emails, or sentences.\n",
    "3. Clustering: Group similar text documents together.\n",
    "4. Recommendation Systems: Identify items or content similar to user preferences.\n",
    "\n",
    "Read the articals for more info:\n",
    "https://medium.com/@TheDataScience-ProF/understanding-cosine-similarity-applications-in-llms-and-beyond-882bcf1077dc\n",
    "\n",
    "https://www.datastax.com/guides/what-is-cosine-similarity\n",
    "\n",
    "https://databasecamp.de/en/data/cosine-similarity"
   ]
  }
 ],
 "metadata": {
  "kernelspec": {
   "display_name": "Python 3 (ipykernel)",
   "language": "python",
   "name": "python3"
  },
  "language_info": {
   "codemirror_mode": {
    "name": "ipython",
    "version": 3
   },
   "file_extension": ".py",
   "mimetype": "text/x-python",
   "name": "python",
   "nbconvert_exporter": "python",
   "pygments_lexer": "ipython3",
   "version": "3.12.7"
  }
 },
 "nbformat": 4,
 "nbformat_minor": 5
}
