{
 "cells": [
  {
   "cell_type": "code",
   "execution_count": null,
   "id": "a208ee60-a417-453f-928b-660fe6aaec22",
   "metadata": {},
   "outputs": [],
   "source": [
    "CountVectorizer is a feature extraction tool in the scikit-learn library used for converting a collection of text documents into a bag-of-words model. \n",
    "\n",
    "It transforms the text into a matrix of token (word) counts, where:\n",
    "\n",
    "Each row represents a document.\n",
    "\n",
    "Each column represents a unique word (term) in the entire corpus.\n",
    "\n",
    "The matrix entries are the count of occurrences of each word in the respective document.\n",
    "\n",
    "Key Features\n",
    "Tokenization: Splits the text into words (tokens).\n",
    "Lowercasing: Converts all text to lowercase by default.\n",
    "Stopword Removal: Optionally removes common words (e.g., \"the\", \"and\") that may not carry meaningful context.\n",
    "Sparse Representation: Produces a sparse matrix to save memory for large datasets.\n"
   ]
  },
  {
   "cell_type": "code",
   "execution_count": 2,
   "id": "f46be286-a4de-4ef1-95f1-9d5b240e29d0",
   "metadata": {},
   "outputs": [
    {
     "name": "stdout",
     "output_type": "stream",
     "text": [
      "Feature Names (Vocabulary): ['behind' 'brown' 'cat' 'dog' 'fox' 'jumps' 'quick' 'rat' 'runs' 'the']\n",
      "\n",
      "Document-Term Matrix:\n",
      "[[1 0 1 0 0 0 0 1 1 0]\n",
      " [1 0 1 1 0 0 0 0 1 0]\n",
      " [0 1 0 0 1 1 1 0 0 1]]\n"
     ]
    }
   ],
   "source": [
    "from sklearn.feature_extraction.text import CountVectorizer\n",
    "\n",
    "# Example documents\n",
    "documents = [\n",
    "    \"Cat runs behind rat\",\n",
    "    \"Dog runs behind cat\",\n",
    "    \"The quick brown fox jumps\"\n",
    "]\n",
    "\n",
    "# Initialize CountVectorizer\n",
    "vectorizer = CountVectorizer()\n",
    "\n",
    "# Fit and transform the documents\n",
    "X = vectorizer.fit_transform(documents)\n",
    "\n",
    "# Extract feature names (unique words)\n",
    "features = vectorizer.get_feature_names_out()\n",
    "\n",
    "# Convert the sparse matrix to a dense matrix for better visualization\n",
    "dense_matrix = X.toarray()\n",
    "\n",
    "# Print the results\n",
    "print(\"Feature Names (Vocabulary):\", features)\n",
    "print(\"\\nDocument-Term Matrix:\")\n",
    "print(dense_matrix)\n"
   ]
  },
  {
   "cell_type": "code",
   "execution_count": null,
   "id": "5ad1cdeb-0dea-492e-a7a5-8b6d71cab5f8",
   "metadata": {},
   "outputs": [],
   "source": [
    "Feature Names (Vocabulary):\n",
    "\n",
    "['behind', 'brown', 'cat', 'dog', 'fox', 'jumps', 'quick', 'rat', 'runs', 'the']\n",
    "\n",
    "Document-Term Matrix:\n",
    "\n",
    "[[1 0 1 0 0 0 0 1 1 0]  # Document 1: \"Cat runs behind rat\n",
    "[1 0 1 1 0 0 0 0 1 0]  # Document 2: \"Dog runs behind cat\n",
    "[0 1 0 0 1 1 1 0 0 1]] # Document 3: \"The quick brown fox jumps\n",
    "\n",
    "Each row corresponds to a document, and each column corresponds to the count of a word in that document.\n",
    "\n",
    "Parameters of CountVectorizer:\n",
    "\n",
    "stop_words: Remove common stopwords (e.g., stop_words='english').\n",
    "max_features: Limit the number of features (e.g., max_features=100).\n",
    "ngram_range: Capture phrases of multiple words (e.g., ngram_range=(1, 2) for unigrams and bigrams).\n",
    "min_df and max_df: Ignore words that are too rare or too common.\n",
    "\n",
    "Applications:\n",
    "Text Preprocessing: Transform raw text into numerical vectors for machine learning.\n",
    "Feature Engineering: Generate features for text classification, clustering, or similarity analysis.\n",
    "Information Retrieval: Represent documents for search and ranking."
   ]
  }
 ],
 "metadata": {
  "kernelspec": {
   "display_name": "Python [conda env:base] *",
   "language": "python",
   "name": "conda-base-py"
  },
  "language_info": {
   "codemirror_mode": {
    "name": "ipython",
    "version": 3
   },
   "file_extension": ".py",
   "mimetype": "text/x-python",
   "name": "python",
   "nbconvert_exporter": "python",
   "pygments_lexer": "ipython3",
   "version": "3.12.7"
  }
 },
 "nbformat": 4,
 "nbformat_minor": 5
}
