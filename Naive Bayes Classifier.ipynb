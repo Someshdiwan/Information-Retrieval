{
 "cells": [
  {
   "cell_type": "code",
   "execution_count": 2,
   "id": "a459995b-4723-4638-a5dc-278420eb725f",
   "metadata": {},
   "outputs": [
    {
     "name": "stdout",
     "output_type": "stream",
     "text": [
      "Total rows: 14\n",
      "Class label counts:\n",
      "Buys Computer\n",
      "Yes    9\n",
      "No     5\n",
      "Name: count, dtype: int64\n",
      "P(X|buys_computer = 'yes') * P(buys_computer = 'yes') = 0.028219\n",
      "P(X|buys_computer = 'no') * P(buys_computer = 'no') = 0.006857\n",
      "The person belongs to class: buys_computer = 'yes'\n"
     ]
    }
   ],
   "source": [
    "import pandas as pd\n",
    "\n",
    "# Creating a DataFrame from the provided data\n",
    "data = {\n",
    "    'Age': ['<=30', '<=30', '31-40', '>40', '>40', '>40', '31-40', '<=30', '<=30', '>40', '<=30', '31-40', '31-40', '>40'],\n",
    "    'Income': ['High', 'High', 'High', 'Medium', 'Low', 'Low', 'Low', 'Medium', 'Low', 'Medium', 'Medium', 'Medium', 'High', 'Medium'],\n",
    "    'Student': ['No', 'No', 'No', 'No', 'Yes', 'Yes', 'Yes', 'No', 'Yes', 'Yes', 'Yes', 'No', 'Yes', 'No'],\n",
    "    'Credit Rating': ['Fair', 'Excellent', 'Fair', 'Fair', 'Fair', 'Excellent', 'Excellent', 'Fair', 'Fair', 'Fair', 'Excellent', 'Excellent', 'Fair', 'Excellent'],\n",
    "    'Buys Computer': ['No', 'No', 'Yes', 'Yes', 'Yes', 'No', 'Yes', 'No', 'Yes', 'Yes', 'Yes', 'Yes', 'Yes', 'No']\n",
    "}\n",
    "\n",
    "df = pd.DataFrame(data)\n",
    "\n",
    "# Count occurrences of each class in the target column\n",
    "total_rows = len(df)\n",
    "class_counts = df['Buys Computer'].value_counts()\n",
    "\n",
    "# Print total rows and class label counts\n",
    "print(f\"Total rows: {total_rows}\")\n",
    "print(f\"Class label counts:\\n{class_counts}\")\n",
    "\n",
    "# Function to calculate conditional probabilities for each feature given a class\n",
    "def calculate_conditional_probabilities(feature, target_class):\n",
    "    feature_counts = df[df['Buys Computer'] == target_class][feature].value_counts()\n",
    "    total_class_count = class_counts[target_class]\n",
    "    return feature_counts / total_class_count\n",
    "\n",
    "# Calculate prior probabilities\n",
    "P_buys_computer_yes = class_counts['Yes'] / total_rows\n",
    "P_buys_computer_no = class_counts['No'] / total_rows\n",
    "\n",
    "# Calculate conditional probabilities for the feature values\n",
    "P_age_yes = calculate_conditional_probabilities('Age', 'Yes')['<=30']\n",
    "P_age_no = calculate_conditional_probabilities('Age', 'No')['<=30']\n",
    "\n",
    "P_income_yes = calculate_conditional_probabilities('Income', 'Yes')['Medium']\n",
    "P_income_no = calculate_conditional_probabilities('Income', 'No')['Medium']\n",
    "\n",
    "P_student_yes = calculate_conditional_probabilities('Student', 'Yes')['Yes']\n",
    "P_student_no = calculate_conditional_probabilities('Student', 'No')['Yes']\n",
    "\n",
    "P_credit_rating_yes = calculate_conditional_probabilities('Credit Rating', 'Yes')['Fair']\n",
    "P_credit_rating_no = calculate_conditional_probabilities('Credit Rating', 'No')['Fair']\n",
    "\n",
    "# Apply the Naive Bayes formula for both classes\n",
    "P_X_given_yes = P_age_yes * P_income_yes * P_student_yes * P_credit_rating_yes\n",
    "P_X_given_no = P_age_no * P_income_no * P_student_no * P_credit_rating_no\n",
    "\n",
    "# Calculate the final probabilities\n",
    "P_yes = P_X_given_yes * P_buys_computer_yes\n",
    "P_no = P_X_given_no * P_buys_computer_no\n",
    "\n",
    "# Print the final probabilities\n",
    "print(f\"P(X|buys_computer = 'yes') * P(buys_computer = 'yes') = {P_yes:.6f}\")\n",
    "print(f\"P(X|buys_computer = 'no') * P(buys_computer = 'no') = {P_no:.6f}\")\n",
    "\n",
    "# Make prediction based on the higher probability\n",
    "if P_yes > P_no:\n",
    "    print(\"The person belongs to class: buys_computer = 'yes'\")\n",
    "else:\n",
    "    print(\"The person belongs to class: buys_computer = 'no'\")\n"
   ]
  },
  {
   "cell_type": "code",
   "execution_count": null,
   "id": "f3c48103-3395-414e-b6e6-33ae975032d3",
   "metadata": {},
   "outputs": [],
   "source": [
    "Naive Bayes Classifier: Theory\n",
    "The Naive Bayes classifier is a probabilistic machine learning model that applies Bayes Theorem with strong (naive) independence assumptions between the features. \n",
    "It’s particularly useful for classification tasks, especially when the features are categorical.\n",
    "\n",
    "The Naive Assumption:\n",
    "Naive Bayes assumes that the features are conditionally independent given the class. \n",
    "This assumption simplifies the computation of P(X∣C) because instead of having to calculate the joint distribution of all features.\n"
   ]
  }
 ],
 "metadata": {
  "kernelspec": {
   "display_name": "Python 3 (ipykernel)",
   "language": "python",
   "name": "python3"
  },
  "language_info": {
   "codemirror_mode": {
    "name": "ipython",
    "version": 3
   },
   "file_extension": ".py",
   "mimetype": "text/x-python",
   "name": "python",
   "nbconvert_exporter": "python",
   "pygments_lexer": "ipython3",
   "version": "3.12.7"
  }
 },
 "nbformat": 4,
 "nbformat_minor": 5
}
